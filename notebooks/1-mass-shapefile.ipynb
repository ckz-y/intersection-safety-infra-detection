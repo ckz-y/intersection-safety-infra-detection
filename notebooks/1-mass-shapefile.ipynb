{
 "cells": [
  {
   "cell_type": "code",
   "execution_count": 62,
   "id": "b17ce63d",
   "metadata": {},
   "outputs": [],
   "source": [
    "from shapely import Polygon\n",
    "import pandas as pd\n",
    "from osmnx.utils_geo import bbox_from_point\n",
    "from geopandas import GeoDataFrame"
   ]
  },
  {
   "cell_type": "code",
   "execution_count": null,
   "id": "467bd5ed",
   "metadata": {},
   "outputs": [
    {
     "data": {
      "text/html": [
       "<div>\n",
       "<style scoped>\n",
       "    .dataframe tbody tr th:only-of-type {\n",
       "        vertical-align: middle;\n",
       "    }\n",
       "\n",
       "    .dataframe tbody tr th {\n",
       "        vertical-align: top;\n",
       "    }\n",
       "\n",
       "    .dataframe thead th {\n",
       "        text-align: right;\n",
       "    }\n",
       "</style>\n",
       "<table border=\"1\" class=\"dataframe\">\n",
       "  <thead>\n",
       "    <tr style=\"text-align: right;\">\n",
       "      <th></th>\n",
       "      <th>Inter_ID</th>\n",
       "      <th>geometry</th>\n",
       "    </tr>\n",
       "  </thead>\n",
       "  <tbody>\n",
       "    <tr>\n",
       "      <th>946</th>\n",
       "      <td>946</td>\n",
       "      <td>POLYGON ((-70.91846 42.3044, -70.91846 42.3049...</td>\n",
       "    </tr>\n",
       "    <tr>\n",
       "      <th>947</th>\n",
       "      <td>947</td>\n",
       "      <td>POLYGON ((-70.91907 42.30421, -70.91907 42.304...</td>\n",
       "    </tr>\n",
       "    <tr>\n",
       "      <th>948</th>\n",
       "      <td>948</td>\n",
       "      <td>POLYGON ((-70.92286 42.30346, -70.92286 42.304...</td>\n",
       "    </tr>\n",
       "    <tr>\n",
       "      <th>949</th>\n",
       "      <td>949</td>\n",
       "      <td>POLYGON ((-71.03251 42.34444, -71.03251 42.344...</td>\n",
       "    </tr>\n",
       "    <tr>\n",
       "      <th>950</th>\n",
       "      <td>950</td>\n",
       "      <td>POLYGON ((-71.03468 42.34362, -71.03468 42.344...</td>\n",
       "    </tr>\n",
       "  </tbody>\n",
       "</table>\n",
       "</div>"
      ],
      "text/plain": [
       "     Inter_ID                                           geometry\n",
       "946       946  POLYGON ((-70.91846 42.3044, -70.91846 42.3049...\n",
       "947       947  POLYGON ((-70.91907 42.30421, -70.91907 42.304...\n",
       "948       948  POLYGON ((-70.92286 42.30346, -70.92286 42.304...\n",
       "949       949  POLYGON ((-71.03251 42.34444, -71.03251 42.344...\n",
       "950       950  POLYGON ((-71.03468 42.34362, -71.03468 42.344..."
      ]
     },
     "execution_count": 72,
     "metadata": {},
     "output_type": "execute_result"
    }
   ],
   "source": [
    "# intersections_path = \"C:/Users/ckaz3/Desktop/intersection-safety-infra-detection/data/interim/data_availability.csv\"\n",
    "# intersections = pd.read_csv(intersections_path)\n",
    "\n",
    "# mass_bbox = [41.2, -73.6, 42.9, -69.9]\n",
    "\n",
    "# intersections_to_query = ~(\n",
    "#     (intersections[\"Inter_Latitude\"] < mass_bbox[0])  # type: ignore\n",
    "#     | (intersections[\"Inter_Latitude\"] > mass_bbox[2])  # type: ignore\n",
    "#     | (intersections[\"Inter_Longitude\"] < mass_bbox[1])  # type: ignore\n",
    "#     | (intersections[\"Inter_Longitude\"] > mass_bbox[3])  # type: ignore\n",
    "# )\n",
    "\n",
    "# intersections = intersections[intersections_to_query]\n",
    "\n",
    "# bounding_boxes = list(\n",
    "#     intersections.apply(\n",
    "#         lambda x: bbox_from_point(\n",
    "#             point=(\n",
    "#                 x[\"Inter_Latitude\"],\n",
    "#                 x[\"Inter_Longitude\"],\n",
    "#             ),\n",
    "#             dist=30,\n",
    "#         ),\n",
    "#         axis=1,\n",
    "#     )\n",
    "# )\n",
    "\n",
    "# bounding_boxes = [((i[0], i[1]), (i[0], i[3]), (i[2], i[3]), (i[2], i[1]), (i[0], i[1])) for i in bounding_boxes]\n",
    "# bounding_boxes = [Polygon(i) for i in bounding_boxes]\n",
    "\n",
    "# intersections[\"Inter_ID\"] = intersections[[\"Intersection_ID\"]]\n",
    "# # intersections[\"Polygons\"] = bounding_boxes\n",
    "\n",
    "# geo_df = GeoDataFrame(intersections[\"Inter_ID\"], crs=\"EPSG:4326\", geometry=bounding_boxes)\n",
    "\n",
    "# geo_df.to_file(\"C:/Users/ckaz3/Desktop/intersection-safety-infra-detection/data/interim/mass_shapefile.shp\")\n",
    "\n",
    "# geo_df.head()"
   ]
  },
  {
   "cell_type": "code",
   "execution_count": null,
   "id": "e2ee3bf7",
   "metadata": {},
   "outputs": [
    {
     "name": "stderr",
     "output_type": "stream",
     "text": [
      "100%|██████████| 118747/118747 [01:24<00:00, 1409.06it/s]\n"
     ]
    }
   ],
   "source": [
    "# import os\n",
    "# from tqdm import tqdm\n",
    "\n",
    "# intersections_path = \"C:/Users/ckaz3/Desktop/intersection-safety-infra-detection/data/interim/data_availability.csv\"\n",
    "# intersections = pd.read_csv(intersections_path)\n",
    "\n",
    "# for file in tqdm(\n",
    "#     os.listdir(\n",
    "#         \"C:/Users/ckaz3/Desktop/intersection-safety-infra-detection/data/raw/images\"\n",
    "#     )\n",
    "# ):\n",
    "#     inter_id = file.split(\".\")[0].split(\"_\")[0]\n",
    "#     year = file.split(\".\")[0].split(\"_\")[1]\n",
    "\n",
    "#     intersections.loc[\n",
    "#         intersections[\"Intersection_ID\"] == inter_id,\n",
    "#         year,\n",
    "#     ] = 2\n",
    "\n",
    "# intersections.to_csv(\"C:/Users/ckaz3/Desktop/intersection-safety-infra-detection/data/interim/data_availability_2.csv\", index=False)"
   ]
  },
  {
   "cell_type": "code",
   "execution_count": null,
   "id": "71647de5",
   "metadata": {},
   "outputs": [
    {
     "name": "stderr",
     "output_type": "stream",
     "text": [
      "Copying files: 0 files [00:00, ? files/s]"
     ]
    },
    {
     "name": "stderr",
     "output_type": "stream",
     "text": [
      "Copying files: 118747 files [02:59, 661.70 files/s]\n"
     ]
    }
   ],
   "source": [
    "# import splitfolders\n",
    "\n",
    "# # Split val/test with a fixed number of items, e.g. `(100, 100)`, for each set.\n",
    "# # To only split into training and validation set, use a single number to `fixed`, i.e., `10`.\n",
    "# # Set 3 values, e.g. `(300, 100, 100)`, to limit the number of training values.\n",
    "# splitfolders.fixed(\"C:/Users/ckaz3/Desktop/intersection-safety-infra-detection/data/raw/splits\", fixed=(5000, 5000))"
   ]
  }
 ],
 "metadata": {
  "kernelspec": {
   "display_name": "infra-detection (3.12.10)",
   "language": "python",
   "name": "python3"
  },
  "language_info": {
   "codemirror_mode": {
    "name": "ipython",
    "version": 3
   },
   "file_extension": ".py",
   "mimetype": "text/x-python",
   "name": "python",
   "nbconvert_exporter": "python",
   "pygments_lexer": "ipython3",
   "version": "3.12.10"
  }
 },
 "nbformat": 4,
 "nbformat_minor": 5
}
