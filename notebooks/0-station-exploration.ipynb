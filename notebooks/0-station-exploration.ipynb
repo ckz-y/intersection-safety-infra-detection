{
 "cells": [
  {
   "cell_type": "code",
   "execution_count": 100,
   "id": "3495302a",
   "metadata": {},
   "outputs": [
    {
     "data": {
      "text/html": [
       "<div>\n",
       "<style scoped>\n",
       "    .dataframe tbody tr th:only-of-type {\n",
       "        vertical-align: middle;\n",
       "    }\n",
       "\n",
       "    .dataframe tbody tr th {\n",
       "        vertical-align: top;\n",
       "    }\n",
       "\n",
       "    .dataframe thead th {\n",
       "        text-align: right;\n",
       "    }\n",
       "</style>\n",
       "<table border=\"1\" class=\"dataframe\">\n",
       "  <thead>\n",
       "    <tr style=\"text-align: right;\">\n",
       "      <th></th>\n",
       "      <th>Station_ID</th>\n",
       "      <th>Agency</th>\n",
       "      <th>Line(s)</th>\n",
       "      <th>Station Name</th>\n",
       "      <th>Year Opened</th>\n",
       "      <th>Station_Latitude</th>\n",
       "      <th>Station_Longitude</th>\n",
       "      <th>Inter_Latitude</th>\n",
       "      <th>Inter_Longitude</th>\n",
       "      <th>Intersection_ID</th>\n",
       "      <th>...</th>\n",
       "      <th>2015</th>\n",
       "      <th>2016</th>\n",
       "      <th>2017</th>\n",
       "      <th>2018</th>\n",
       "      <th>2019</th>\n",
       "      <th>2020</th>\n",
       "      <th>2021</th>\n",
       "      <th>2022</th>\n",
       "      <th>2023</th>\n",
       "      <th>2024</th>\n",
       "    </tr>\n",
       "  </thead>\n",
       "  <tbody>\n",
       "    <tr>\n",
       "      <th>13474</th>\n",
       "      <td>14138</td>\n",
       "      <td>Maryland Transit Administration</td>\n",
       "      <td>Light Rail([L])</td>\n",
       "      <td>HAMBURG ST</td>\n",
       "      <td>Pre-2000</td>\n",
       "      <td>39.277641</td>\n",
       "      <td>-76.62081</td>\n",
       "      <td>39.278202</td>\n",
       "      <td>-76.619011</td>\n",
       "      <td>11393</td>\n",
       "      <td>...</td>\n",
       "      <td>1</td>\n",
       "      <td>2</td>\n",
       "      <td>2</td>\n",
       "      <td>0</td>\n",
       "      <td>2</td>\n",
       "      <td>2</td>\n",
       "      <td>0</td>\n",
       "      <td>2</td>\n",
       "      <td>0</td>\n",
       "      <td>0</td>\n",
       "    </tr>\n",
       "  </tbody>\n",
       "</table>\n",
       "<p>1 rows × 23 columns</p>\n",
       "</div>"
      ],
      "text/plain": [
       "       Station_ID                           Agency          Line(s)  \\\n",
       "13474       14138  Maryland Transit Administration  Light Rail([L])   \n",
       "\n",
       "      Station Name Year Opened  Station_Latitude  Station_Longitude  \\\n",
       "13474  HAMBURG ST     Pre-2000         39.277641          -76.62081   \n",
       "\n",
       "       Inter_Latitude  Inter_Longitude  Intersection_ID  ...  2015  2016  \\\n",
       "13474       39.278202       -76.619011            11393  ...     1     2   \n",
       "\n",
       "       2017  2018  2019  2020  2021  2022  2023  2024  \n",
       "13474     2     0     2     2     0     2     0     0  \n",
       "\n",
       "[1 rows x 23 columns]"
      ]
     },
     "execution_count": 100,
     "metadata": {},
     "output_type": "execute_result"
    }
   ],
   "source": [
    "from pyproj import Transformer\n",
    "import requests\n",
    "from osmnx.utils_geo import bbox_from_point\n",
    "import time\n",
    "import numpy as np\n",
    "import pandas as pd\n",
    "\n",
    "data_availability_path = \"C:/Users/ckaz3/Desktop/intersection-safety-infra-detection/data/interim/data_availability.csv\"\n",
    "intersections = pd.read_csv(data_availability_path)\n",
    "\n",
    "id = 11393\n",
    "intersections[intersections[\"Intersection_ID\"] == id]\n"
   ]
  },
  {
   "cell_type": "code",
   "execution_count": 749,
   "id": "81635470",
   "metadata": {},
   "outputs": [
    {
     "data": {
      "text/html": [
       "<div>\n",
       "<style scoped>\n",
       "    .dataframe tbody tr th:only-of-type {\n",
       "        vertical-align: middle;\n",
       "    }\n",
       "\n",
       "    .dataframe tbody tr th {\n",
       "        vertical-align: top;\n",
       "    }\n",
       "\n",
       "    .dataframe thead th {\n",
       "        text-align: right;\n",
       "    }\n",
       "</style>\n",
       "<table border=\"1\" class=\"dataframe\">\n",
       "  <thead>\n",
       "    <tr style=\"text-align: right;\">\n",
       "      <th></th>\n",
       "      <th>Inter_Latitude</th>\n",
       "      <th>Inter_Longitude</th>\n",
       "      <th>Intersection_ID</th>\n",
       "    </tr>\n",
       "  </thead>\n",
       "  <tbody>\n",
       "    <tr>\n",
       "      <th>11145</th>\n",
       "      <td>40.752199</td>\n",
       "      <td>-73.993458</td>\n",
       "      <td>9134</td>\n",
       "    </tr>\n",
       "    <tr>\n",
       "      <th>31535</th>\n",
       "      <td>40.752199</td>\n",
       "      <td>-73.993458</td>\n",
       "      <td>9134</td>\n",
       "    </tr>\n",
       "  </tbody>\n",
       "</table>\n",
       "</div>"
      ],
      "text/plain": [
       "       Inter_Latitude  Inter_Longitude  Intersection_ID\n",
       "11145       40.752199       -73.993458             9134\n",
       "31535       40.752199       -73.993458             9134"
      ]
     },
     "execution_count": 749,
     "metadata": {},
     "output_type": "execute_result"
    }
   ],
   "source": [
    "id = 9134\n",
    "\n",
    "intersections[intersections[\"Intersection_ID\"] == id][[\"Inter_Latitude\", \"Inter_Longitude\", \"Intersection_ID\"]]"
   ]
  },
  {
   "cell_type": "code",
   "execution_count": 218,
   "id": "ddeb1866",
   "metadata": {},
   "outputs": [
    {
     "name": "stdout",
     "output_type": "stream",
     "text": [
      "242\n",
      "118\n",
      "570\n"
     ]
    }
   ],
   "source": [
    "test = \"C:/Users/ckaz3/Downloads/project-3-at-2025-07-24-14-26-5b2e8097.csv\"\n",
    "test = pd.read_csv(test)\n",
    "print(sum(test[\"label\"][~test[\"label\"].isna()].str.count(\"daylighting\")))\n",
    "print(sum(test[\"label\"][~test[\"label\"].isna()].str.count(\"curb_extension\")))\n",
    "print(sum(test[\"label\"][~test[\"label\"].isna()].str.count(\"safety_islands\")))"
   ]
  },
  {
   "cell_type": "code",
   "execution_count": 53,
   "id": "12d53f8c",
   "metadata": {},
   "outputs": [
    {
     "data": {
      "text/plain": [
       "17037"
      ]
     },
     "execution_count": 53,
     "metadata": {},
     "output_type": "execute_result"
    }
   ],
   "source": [
    "data_availability_path = \"C:/Users/ckaz3/Desktop/intersection-safety-infra-detection/data/interim/data_availability.csv\"\n",
    "intersections = pd.read_csv(data_availability_path)\n",
    "len(intersections)"
   ]
  },
  {
   "cell_type": "code",
   "execution_count": 34,
   "id": "c3014d66",
   "metadata": {},
   "outputs": [
    {
     "data": {
      "text/plain": [
       "True"
      ]
     },
     "execution_count": 34,
     "metadata": {},
     "output_type": "execute_result"
    }
   ],
   "source": [
    "from io import BytesIO\n",
    "import requests \n",
    "from PIL import Image\n",
    "\n",
    "source_url = \"https://cteco.uconn.edu/ctraster/rest/services/images/Ortho_2019_tiled/ImageServer/exportImage\"\n",
    "params = {'bbox': '-72.53808244256578,40.99221120389935,-72.53736755743421,40.992750796100644',                              \n",
    "          'size': '416,416',\n",
    "          'f': 'image',         \n",
    "          'bboxSR': '4326',} \n",
    "source_extent = requests.get(source_url, params)\n",
    "image_file_extrema = Image.open(BytesIO(source_extent.content)).getextrema()\n",
    "image_file_extrema == ((0, 0), (0, 0), (0, 0), (0, 0))"
   ]
  },
  {
   "cell_type": "code",
   "execution_count": null,
   "id": "533d9bea",
   "metadata": {},
   "outputs": [
    {
     "name": "stdout",
     "output_type": "stream",
     "text": [
      "ACE \n"
     ]
    },
    {
     "data": {
      "text/plain": [
       "True"
      ]
     },
     "execution_count": 125,
     "metadata": {},
     "output_type": "execute_result"
    }
   ],
   "source": [
    "import pandas as pd\n",
    "\n",
    "data_path = \"C:/Users/ckaz3/Desktop/intersection-safety-infra-detection/data/interim/data_availability.csv\"\n",
    "data = pd.read_csv(data_path)\n",
    "for row in data.itertuples():\n",
    "    print(row.Agency)\n",
    "    # print(data[data[\"Intersection_ID\"] == row[\"Intersection_ID\"]])\n",
    "    break"
   ]
  },
  {
   "cell_type": "code",
   "execution_count": null,
   "id": "70fce9d2",
   "metadata": {},
   "outputs": [
    {
     "name": "stderr",
     "output_type": "stream",
     "text": [
      "100%|██████████| 55718/55718 [00:24<00:00, 2253.91it/s]\n"
     ]
    }
   ],
   "source": [
    "import os\n",
    "import pandas as pd\n",
    "from tqdm import tqdm\n",
    "\n",
    "data_path = \"C:/Users/ckaz3/Desktop/intersection-safety-infra-detection/data/interim/data_availability.csv\"\n",
    "data = pd.read_csv(data_path)\n"
   ]
  },
  {
   "cell_type": "code",
   "execution_count": 164,
   "id": "fdd3cf74",
   "metadata": {},
   "outputs": [
    {
     "data": {
      "text/plain": [
       "array(['ACE ', 'ACE , Capitol Corridor Joint Powers Authority',\n",
       "       'Alameda/Oakland Ferry', 'Amtrak ', 'BART', 'Baylink',\n",
       "       'Blue & Gold Fleet', 'Boston Harbor Islands Ferries', 'Caltrain',\n",
       "       'Capital Metro', 'Capitol Corridor Joint Powers Authority',\n",
       "       'CAT  ', 'CATS', 'Chappaquiddick Ferry,Inc.',\n",
       "       'Charm City Circulator', 'City of Seattle', 'CTA', 'DART',\n",
       "       'DART, DCTA', 'DCTA, DART', 'Detroit Transportation Corporation',\n",
       "       'DTOP ', 'GCRTA', 'Golden Gate Ferry',\n",
       "       'Hampton Roads Transit (HRT)', 'Harbor Bay Ferry', 'HART', 'JTA ',\n",
       "       'KAT', 'KCATA', 'King County Marine Division', 'Kitsap Transit',\n",
       "       'Lane Transit District', 'Las Vegas Monorail',\n",
       "       'Long Island Rail Road', 'MARTA',\n",
       "       'Maryland Transit Administration', 'MATA ', 'MBTA', 'Metra',\n",
       "       'Metro', 'METRO', 'Metrolink', 'Metro-North Railroad',\n",
       "       'Metro St. Louis', 'Metro Transit', 'Miami Dade Transit', 'MTA',\n",
       "       'MTS', 'New England Fast Ferry', 'NFTA-METRO', 'NJ TRANSIT RAIL',\n",
       "       'NMDOT ', 'NORTA ', 'North County Transit District',\n",
       "       'North Indiana Commuter Transportation District', 'PAT ', 'PATCO',\n",
       "       'Pierce County ', 'Port Authority Trans Hudson',\n",
       "       'Regional Transportation Commission of Southern Nevada', 'RT',\n",
       "       'RTA', 'RTD', 'Salem Ferry',\n",
       "       'San Francisco Municipal Transportation Agency', 'SEPTA',\n",
       "       'Shore Line East', 'Skagit County ', 'Sound Transit', 'TriMet',\n",
       "       'Tri-Rail', 'UTA ', 'Valley Metro', 'VRE', 'VTA',\n",
       "       'Washington State Ferries', 'WMATA', '7 Line Extension',\n",
       "       'Airport Line', 'Anacostia  Streetcar Project',\n",
       "       'Baltimore Red Line', 'Blue Line Extension',\n",
       "       'Boston Fairmount Line', 'Cedar Ave BRT', 'Center City Streetcar',\n",
       "       'Central Corridor Extension', 'Central Corridor LRT',\n",
       "       'Central Florida Commuter Rail Phase I',\n",
       "       'Columbia River Crossing - LRT', 'Crenshaw Corridor',\n",
       "       'Del Mar Loop Trolley', 'Downtown Natomas Airport Line',\n",
       "       'Downtown Streetcar', 'Draper Extension',\n",
       "       'Dulles Corridor Metrorail: Airport/Route 772 Extension',\n",
       "       'Dulles Corridor Metrorail: Wiehle Ave Extension',\n",
       "       'East Contra Costa County Extension', 'East Corridor',\n",
       "       'East End LRT', 'Expo Phase II', 'Exposition Corridor LRT',\n",
       "       'First Hill Streetcar', 'Foothill Extension',\n",
       "       'Fort Mason Extension', 'FrontRunner South', 'Gold Line',\n",
       "       'Green Line Extension', 'Hartford Busway',\n",
       "       'High Capacity Transit Corridor Project', 'H Street Streetcar',\n",
       "       'I-35 W BRT', 'Lackawanna Cutoff Phase 1', 'Loyola Streetcar',\n",
       "       'MIC - Earlington Heights Connector Alignment',\n",
       "       'Mid-Coast Corridor Transit Project',\n",
       "       'Milwaukee Streetcar Phase 1', 'Milwaukie LRT',\n",
       "       'Modern Streetcar Project', 'NM DOT/Rail Runner Phase II',\n",
       "       'North Corridor LRT', 'North Corridor Metrorail Extension',\n",
       "       'Northeast Corridor Light Rail Project',\n",
       "       'North Shore LRT Connector', 'Orange Line',\n",
       "       'Orange Line North BRT', 'Orange Line (Station Deferred)',\n",
       "       'Pawtucket/Central Falls Commuter Rail Station',\n",
       "       'Portland Streetcar Loop', 'Regional Connector',\n",
       "       'Sacramento Light Rail Extension', 'Sahara Ave BRT',\n",
       "       'Second Avenue Subway Phase I', 'SF Central Subway',\n",
       "       'Silicon Valley Berryessa Extension', 'Silver Line Phase III',\n",
       "       'SMART', 'S Oak Cliff Streetcar', 'Sounder Commuter Rail',\n",
       "       'South Bay BRT', 'Southeast Corridor LRT',\n",
       "       'South Link LRT Extension', 'Stamford Urban Transitway Phase II',\n",
       "       'Sugar House Streetcar', 'University Line LRT',\n",
       "       'University Link LRT Extension', 'US 36 BRT', 'Valley Metro LRT',\n",
       "       'West Corridor LRT', 'West Side Subway', 'Wilshire Blvd BRT',\n",
       "       'Woodward', '34th Street Transitway', 'Albuquerque Streetcar',\n",
       "       'Athens Atlanta Brain Train', 'Beltline w Alignment 1',\n",
       "       'Caltrain - Closed Stations', 'Caltrain Extension',\n",
       "       'Capital Red Rose Corridor',\n",
       "       'Central Florida Commuter Rail Phase II',\n",
       "       'Cincinnati Streetcar Phase 1', 'Columbia Pike Streetcar',\n",
       "       'Convention Center/Riverfront', 'Corridor Cities Transitway',\n",
       "       'Detroit to Ann Arbor CR', 'East Bay BRT',\n",
       "       'East Link LRT Extension', 'East West Streetcar Loop',\n",
       "       'French Quarter/Press Street', 'Ft. Lauderdale Wave Line',\n",
       "       'Glassboro Camden Line', 'G Line', 'Grand Rapids Streetcar',\n",
       "       'Green Line Boston College (B)', 'I-225 Corridor',\n",
       "       'Island Transit - Closed Stations', 'KRM Commuter Line',\n",
       "       'Light Rail Transit', 'Livermore BART Extension',\n",
       "       'Lovejoy Commuter Rail', 'Madison 2020 Plan',\n",
       "       'Mason Transportation Corridor', 'Memphis Airport Extension',\n",
       "       'Mesa Extension', 'Metra STAR Line', 'Milwaukee Streetcar Phase 2',\n",
       "       'North Corridor', 'Northern Branch Project',\n",
       "       'North Link LRT Extension', 'North Metro', 'North South LRT',\n",
       "       'North South Streetcar', 'Northstar Extension', 'Northwest Rail',\n",
       "       'Nostrand Ave BRT', 'Orange Line Extension',\n",
       "       'Orange Line Phase II West', 'Passaic Bergen DMU',\n",
       "       'Peachtree Streetcar', 'Perris Valley Line',\n",
       "       'Provo Orem Bus Rapid Transit', 'Purple Line',\n",
       "       'Raritan Valley Line', 'Red Line Extension',\n",
       "       'Resort Corridor Downtown Extension', 'Route 5 BRT',\n",
       "       'San Bernardino E Street BRT', 'Schuylkill Valley MetroRail',\n",
       "       'Silicon Valley Rapid Transit Corridor', 'Silver Line BRT',\n",
       "       'Southeast Corridor', 'Southwest Corridor', 'SW to NE Line',\n",
       "       'Syracuse OnTrack', 'Tempe Streetcar', 'Uptown Line LRT',\n",
       "       'Van Ness Avenue BRT', 'Waterfront Streetcar', 'West Corridor',\n",
       "       'West Eugene BRT Extension', 'West Sacramento Streetcar',\n",
       "       'Winston Salem Streetcar', 'Yellow Line Extension'], dtype=object)"
      ]
     },
     "execution_count": 164,
     "metadata": {},
     "output_type": "execute_result"
    }
   ],
   "source": [
    "data_path = \"C:/Users/ckaz3/Desktop/intersection-safety-infra-detection/data/interim/intersections.csv\"\n",
    "data = pd.read_csv(data_path)\n",
    "data[\"Agency\"].unique()"
   ]
  },
  {
   "cell_type": "code",
   "execution_count": 143,
   "id": "73c8f10a",
   "metadata": {},
   "outputs": [
    {
     "data": {
      "text/plain": [
       "'-73.9888015491527,40.75884523788258,-73.98797045084731,40.75947476211742'"
      ]
     },
     "execution_count": 143,
     "metadata": {},
     "output_type": "execute_result"
    }
   ],
   "source": [
    "from osmnx.utils_geo import bbox_from_point\n",
    "# intersection_bbox = \",\".join(\n",
    "#     str(i)\n",
    "#     for i in bbox_from_point(\n",
    "#         point=(\n",
    "#             43.592414,\n",
    "#             -73.261698,\n",
    "#         ),\n",
    "#         dist=35,\n",
    "#     )\n",
    "# )\n",
    "intersection_bbox = \",\".join(\n",
    "    str(i)\n",
    "    for i in bbox_from_point(\n",
    "        point=(\n",
    "            40.759160,\n",
    "            -73.988386,\n",
    "        ),\n",
    "        dist=35,\n",
    "    )\n",
    ")\n",
    "intersection_bbox"
   ]
  },
  {
   "cell_type": "code",
   "execution_count": 144,
   "id": "c76882ec",
   "metadata": {},
   "outputs": [
    {
     "data": {
      "text/plain": [
       "(0, 255)"
      ]
     },
     "execution_count": 144,
     "metadata": {},
     "output_type": "execute_result"
    }
   ],
   "source": [
    "from PIL import Image\n",
    "from io import BytesIO # To read image from bytes\n",
    "\n",
    "api_endpoint = \"https://orthos.its.ny.gov/arcgis/rest/services/wms/2024/MapServer\"\n",
    "api_year = 2022\n",
    "\n",
    "params = {\"f\": \"json\"}\n",
    "\n",
    "source_extent = requests.get(api_endpoint, {\"f\": \"json\"}).json()[\"fullExtent\"]\n",
    "source_extent\n",
    "\n",
    "server_bbox = list(\n",
    "                transformer.transform(source_extent[\"xmin\"], source_extent[\"ymin\"])\n",
    "            ) + list(\n",
    "                transformer.transform(source_extent[\"xmax\"], source_extent[\"ymax\"])\n",
    "            )\n",
    "\n",
    "params = {\n",
    "    \"bbox\": intersection_bbox,\n",
    "    \"size\": \"640,640\",\n",
    "    \"f\": \"image\",\n",
    "    \"bboxSR\": str(4326),\n",
    "}\n",
    "\n",
    "r = requests.get(api_endpoint + \"/export\", params)\n",
    "imageStream = BytesIO(r.content)\n",
    "imageFile = Image.open(imageStream)\n",
    "imageFile.getextrema()\n"
   ]
  },
  {
   "cell_type": "code",
   "execution_count": 77,
   "id": "62e53fa9",
   "metadata": {},
   "outputs": [],
   "source": [
    "data_path = \"C:/Users/ckaz3/Desktop/intersection-safety-infra-detection/data/interim/existing_stations_intersections.csv\"\n",
    "data = pd.read_csv(data_path, index_col=0)\n",
    "data = data[data[\"Agency\"] == \"MTA\"]\n",
    "\n",
    "# for data_source in data_sources:\n",
    "api_endpoint = \"https://orthos.its.ny.gov/arcgis/rest/services/wms/2022/MapServer\"\n",
    "api_year = 2022\n",
    "\n",
    "params = {\"f\": \"json\"}\n",
    "\n",
    "r = requests.get(api_endpoint, params).json()\n",
    "\n",
    "transformer = Transformer.from_crs(\"EPSG:3857\", \"EPSG:4326\")\n",
    "server_bbox = list(\n",
    "    transformer.transform(r[\"fullExtent\"][\"xmin\"], r[\"fullExtent\"][\"ymin\"])\n",
    ")\n",
    "\n",
    "server_bbox.extend(\n",
    "    transformer.transform(r[\"fullExtent\"][\"xmax\"], r[\"fullExtent\"][\"ymax\"])\n",
    ")"
   ]
  },
  {
   "cell_type": "code",
   "execution_count": 76,
   "id": "c0ffdbcf",
   "metadata": {},
   "outputs": [
    {
     "name": "stderr",
     "output_type": "stream",
     "text": [
      " 61%|██████▏   | 5872/9559 [1:13:23<46:05,  1.33it/s]  \n"
     ]
    },
    {
     "ename": "ReadTimeout",
     "evalue": "HTTPSConnectionPool(host='orthos.its.ny.gov', port=443): Read timed out. (read timeout=None)",
     "output_type": "error",
     "traceback": [
      "\u001b[31m---------------------------------------------------------------------------\u001b[39m",
      "\u001b[31mTimeoutError\u001b[39m                              Traceback (most recent call last)",
      "\u001b[36mFile \u001b[39m\u001b[32mc:\\Users\\ckaz3\\Desktop\\intersection-safety-infra-detection\\infra-detection\\Lib\\site-packages\\urllib3\\connectionpool.py:464\u001b[39m, in \u001b[36mHTTPConnectionPool._make_request\u001b[39m\u001b[34m(self, conn, method, url, body, headers, retries, timeout, chunked, response_conn, preload_content, decode_content, enforce_content_length)\u001b[39m\n\u001b[32m    463\u001b[39m \u001b[38;5;28;01mtry\u001b[39;00m:\n\u001b[32m--> \u001b[39m\u001b[32m464\u001b[39m     \u001b[38;5;28;43mself\u001b[39;49m\u001b[43m.\u001b[49m\u001b[43m_validate_conn\u001b[49m\u001b[43m(\u001b[49m\u001b[43mconn\u001b[49m\u001b[43m)\u001b[49m\n\u001b[32m    465\u001b[39m \u001b[38;5;28;01mexcept\u001b[39;00m (SocketTimeout, BaseSSLError) \u001b[38;5;28;01mas\u001b[39;00m e:\n",
      "\u001b[36mFile \u001b[39m\u001b[32mc:\\Users\\ckaz3\\Desktop\\intersection-safety-infra-detection\\infra-detection\\Lib\\site-packages\\urllib3\\connectionpool.py:1093\u001b[39m, in \u001b[36mHTTPSConnectionPool._validate_conn\u001b[39m\u001b[34m(self, conn)\u001b[39m\n\u001b[32m   1092\u001b[39m \u001b[38;5;28;01mif\u001b[39;00m conn.is_closed:\n\u001b[32m-> \u001b[39m\u001b[32m1093\u001b[39m     \u001b[43mconn\u001b[49m\u001b[43m.\u001b[49m\u001b[43mconnect\u001b[49m\u001b[43m(\u001b[49m\u001b[43m)\u001b[49m\n\u001b[32m   1095\u001b[39m \u001b[38;5;66;03m# TODO revise this, see https://github.com/urllib3/urllib3/issues/2791\u001b[39;00m\n",
      "\u001b[36mFile \u001b[39m\u001b[32mc:\\Users\\ckaz3\\Desktop\\intersection-safety-infra-detection\\infra-detection\\Lib\\site-packages\\urllib3\\connection.py:790\u001b[39m, in \u001b[36mHTTPSConnection.connect\u001b[39m\u001b[34m(self)\u001b[39m\n\u001b[32m    788\u001b[39m server_hostname_rm_dot = server_hostname.rstrip(\u001b[33m\"\u001b[39m\u001b[33m.\u001b[39m\u001b[33m\"\u001b[39m)\n\u001b[32m--> \u001b[39m\u001b[32m790\u001b[39m sock_and_verified = \u001b[43m_ssl_wrap_socket_and_match_hostname\u001b[49m\u001b[43m(\u001b[49m\n\u001b[32m    791\u001b[39m \u001b[43m    \u001b[49m\u001b[43msock\u001b[49m\u001b[43m=\u001b[49m\u001b[43msock\u001b[49m\u001b[43m,\u001b[49m\n\u001b[32m    792\u001b[39m \u001b[43m    \u001b[49m\u001b[43mcert_reqs\u001b[49m\u001b[43m=\u001b[49m\u001b[38;5;28;43mself\u001b[39;49m\u001b[43m.\u001b[49m\u001b[43mcert_reqs\u001b[49m\u001b[43m,\u001b[49m\n\u001b[32m    793\u001b[39m \u001b[43m    \u001b[49m\u001b[43mssl_version\u001b[49m\u001b[43m=\u001b[49m\u001b[38;5;28;43mself\u001b[39;49m\u001b[43m.\u001b[49m\u001b[43mssl_version\u001b[49m\u001b[43m,\u001b[49m\n\u001b[32m    794\u001b[39m \u001b[43m    \u001b[49m\u001b[43mssl_minimum_version\u001b[49m\u001b[43m=\u001b[49m\u001b[38;5;28;43mself\u001b[39;49m\u001b[43m.\u001b[49m\u001b[43mssl_minimum_version\u001b[49m\u001b[43m,\u001b[49m\n\u001b[32m    795\u001b[39m \u001b[43m    \u001b[49m\u001b[43mssl_maximum_version\u001b[49m\u001b[43m=\u001b[49m\u001b[38;5;28;43mself\u001b[39;49m\u001b[43m.\u001b[49m\u001b[43mssl_maximum_version\u001b[49m\u001b[43m,\u001b[49m\n\u001b[32m    796\u001b[39m \u001b[43m    \u001b[49m\u001b[43mca_certs\u001b[49m\u001b[43m=\u001b[49m\u001b[38;5;28;43mself\u001b[39;49m\u001b[43m.\u001b[49m\u001b[43mca_certs\u001b[49m\u001b[43m,\u001b[49m\n\u001b[32m    797\u001b[39m \u001b[43m    \u001b[49m\u001b[43mca_cert_dir\u001b[49m\u001b[43m=\u001b[49m\u001b[38;5;28;43mself\u001b[39;49m\u001b[43m.\u001b[49m\u001b[43mca_cert_dir\u001b[49m\u001b[43m,\u001b[49m\n\u001b[32m    798\u001b[39m \u001b[43m    \u001b[49m\u001b[43mca_cert_data\u001b[49m\u001b[43m=\u001b[49m\u001b[38;5;28;43mself\u001b[39;49m\u001b[43m.\u001b[49m\u001b[43mca_cert_data\u001b[49m\u001b[43m,\u001b[49m\n\u001b[32m    799\u001b[39m \u001b[43m    \u001b[49m\u001b[43mcert_file\u001b[49m\u001b[43m=\u001b[49m\u001b[38;5;28;43mself\u001b[39;49m\u001b[43m.\u001b[49m\u001b[43mcert_file\u001b[49m\u001b[43m,\u001b[49m\n\u001b[32m    800\u001b[39m \u001b[43m    \u001b[49m\u001b[43mkey_file\u001b[49m\u001b[43m=\u001b[49m\u001b[38;5;28;43mself\u001b[39;49m\u001b[43m.\u001b[49m\u001b[43mkey_file\u001b[49m\u001b[43m,\u001b[49m\n\u001b[32m    801\u001b[39m \u001b[43m    \u001b[49m\u001b[43mkey_password\u001b[49m\u001b[43m=\u001b[49m\u001b[38;5;28;43mself\u001b[39;49m\u001b[43m.\u001b[49m\u001b[43mkey_password\u001b[49m\u001b[43m,\u001b[49m\n\u001b[32m    802\u001b[39m \u001b[43m    \u001b[49m\u001b[43mserver_hostname\u001b[49m\u001b[43m=\u001b[49m\u001b[43mserver_hostname_rm_dot\u001b[49m\u001b[43m,\u001b[49m\n\u001b[32m    803\u001b[39m \u001b[43m    \u001b[49m\u001b[43mssl_context\u001b[49m\u001b[43m=\u001b[49m\u001b[38;5;28;43mself\u001b[39;49m\u001b[43m.\u001b[49m\u001b[43mssl_context\u001b[49m\u001b[43m,\u001b[49m\n\u001b[32m    804\u001b[39m \u001b[43m    \u001b[49m\u001b[43mtls_in_tls\u001b[49m\u001b[43m=\u001b[49m\u001b[43mtls_in_tls\u001b[49m\u001b[43m,\u001b[49m\n\u001b[32m    805\u001b[39m \u001b[43m    \u001b[49m\u001b[43massert_hostname\u001b[49m\u001b[43m=\u001b[49m\u001b[38;5;28;43mself\u001b[39;49m\u001b[43m.\u001b[49m\u001b[43massert_hostname\u001b[49m\u001b[43m,\u001b[49m\n\u001b[32m    806\u001b[39m \u001b[43m    \u001b[49m\u001b[43massert_fingerprint\u001b[49m\u001b[43m=\u001b[49m\u001b[38;5;28;43mself\u001b[39;49m\u001b[43m.\u001b[49m\u001b[43massert_fingerprint\u001b[49m\u001b[43m,\u001b[49m\n\u001b[32m    807\u001b[39m \u001b[43m\u001b[49m\u001b[43m)\u001b[49m\n\u001b[32m    808\u001b[39m \u001b[38;5;28mself\u001b[39m.sock = sock_and_verified.socket\n",
      "\u001b[36mFile \u001b[39m\u001b[32mc:\\Users\\ckaz3\\Desktop\\intersection-safety-infra-detection\\infra-detection\\Lib\\site-packages\\urllib3\\connection.py:969\u001b[39m, in \u001b[36m_ssl_wrap_socket_and_match_hostname\u001b[39m\u001b[34m(sock, cert_reqs, ssl_version, ssl_minimum_version, ssl_maximum_version, cert_file, key_file, key_password, ca_certs, ca_cert_dir, ca_cert_data, assert_hostname, assert_fingerprint, server_hostname, ssl_context, tls_in_tls)\u001b[39m\n\u001b[32m    967\u001b[39m         server_hostname = normalized\n\u001b[32m--> \u001b[39m\u001b[32m969\u001b[39m ssl_sock = \u001b[43mssl_wrap_socket\u001b[49m\u001b[43m(\u001b[49m\n\u001b[32m    970\u001b[39m \u001b[43m    \u001b[49m\u001b[43msock\u001b[49m\u001b[43m=\u001b[49m\u001b[43msock\u001b[49m\u001b[43m,\u001b[49m\n\u001b[32m    971\u001b[39m \u001b[43m    \u001b[49m\u001b[43mkeyfile\u001b[49m\u001b[43m=\u001b[49m\u001b[43mkey_file\u001b[49m\u001b[43m,\u001b[49m\n\u001b[32m    972\u001b[39m \u001b[43m    \u001b[49m\u001b[43mcertfile\u001b[49m\u001b[43m=\u001b[49m\u001b[43mcert_file\u001b[49m\u001b[43m,\u001b[49m\n\u001b[32m    973\u001b[39m \u001b[43m    \u001b[49m\u001b[43mkey_password\u001b[49m\u001b[43m=\u001b[49m\u001b[43mkey_password\u001b[49m\u001b[43m,\u001b[49m\n\u001b[32m    974\u001b[39m \u001b[43m    \u001b[49m\u001b[43mca_certs\u001b[49m\u001b[43m=\u001b[49m\u001b[43mca_certs\u001b[49m\u001b[43m,\u001b[49m\n\u001b[32m    975\u001b[39m \u001b[43m    \u001b[49m\u001b[43mca_cert_dir\u001b[49m\u001b[43m=\u001b[49m\u001b[43mca_cert_dir\u001b[49m\u001b[43m,\u001b[49m\n\u001b[32m    976\u001b[39m \u001b[43m    \u001b[49m\u001b[43mca_cert_data\u001b[49m\u001b[43m=\u001b[49m\u001b[43mca_cert_data\u001b[49m\u001b[43m,\u001b[49m\n\u001b[32m    977\u001b[39m \u001b[43m    \u001b[49m\u001b[43mserver_hostname\u001b[49m\u001b[43m=\u001b[49m\u001b[43mserver_hostname\u001b[49m\u001b[43m,\u001b[49m\n\u001b[32m    978\u001b[39m \u001b[43m    \u001b[49m\u001b[43mssl_context\u001b[49m\u001b[43m=\u001b[49m\u001b[43mcontext\u001b[49m\u001b[43m,\u001b[49m\n\u001b[32m    979\u001b[39m \u001b[43m    \u001b[49m\u001b[43mtls_in_tls\u001b[49m\u001b[43m=\u001b[49m\u001b[43mtls_in_tls\u001b[49m\u001b[43m,\u001b[49m\n\u001b[32m    980\u001b[39m \u001b[43m\u001b[49m\u001b[43m)\u001b[49m\n\u001b[32m    982\u001b[39m \u001b[38;5;28;01mtry\u001b[39;00m:\n",
      "\u001b[36mFile \u001b[39m\u001b[32mc:\\Users\\ckaz3\\Desktop\\intersection-safety-infra-detection\\infra-detection\\Lib\\site-packages\\urllib3\\util\\ssl_.py:480\u001b[39m, in \u001b[36mssl_wrap_socket\u001b[39m\u001b[34m(sock, keyfile, certfile, cert_reqs, ca_certs, server_hostname, ssl_version, ciphers, ssl_context, ca_cert_dir, key_password, ca_cert_data, tls_in_tls)\u001b[39m\n\u001b[32m    478\u001b[39m context.set_alpn_protocols(ALPN_PROTOCOLS)\n\u001b[32m--> \u001b[39m\u001b[32m480\u001b[39m ssl_sock = \u001b[43m_ssl_wrap_socket_impl\u001b[49m\u001b[43m(\u001b[49m\u001b[43msock\u001b[49m\u001b[43m,\u001b[49m\u001b[43m \u001b[49m\u001b[43mcontext\u001b[49m\u001b[43m,\u001b[49m\u001b[43m \u001b[49m\u001b[43mtls_in_tls\u001b[49m\u001b[43m,\u001b[49m\u001b[43m \u001b[49m\u001b[43mserver_hostname\u001b[49m\u001b[43m)\u001b[49m\n\u001b[32m    481\u001b[39m \u001b[38;5;28;01mreturn\u001b[39;00m ssl_sock\n",
      "\u001b[36mFile \u001b[39m\u001b[32mc:\\Users\\ckaz3\\Desktop\\intersection-safety-infra-detection\\infra-detection\\Lib\\site-packages\\urllib3\\util\\ssl_.py:524\u001b[39m, in \u001b[36m_ssl_wrap_socket_impl\u001b[39m\u001b[34m(sock, ssl_context, tls_in_tls, server_hostname)\u001b[39m\n\u001b[32m    522\u001b[39m     \u001b[38;5;28;01mreturn\u001b[39;00m SSLTransport(sock, ssl_context, server_hostname)\n\u001b[32m--> \u001b[39m\u001b[32m524\u001b[39m \u001b[38;5;28;01mreturn\u001b[39;00m \u001b[43mssl_context\u001b[49m\u001b[43m.\u001b[49m\u001b[43mwrap_socket\u001b[49m\u001b[43m(\u001b[49m\u001b[43msock\u001b[49m\u001b[43m,\u001b[49m\u001b[43m \u001b[49m\u001b[43mserver_hostname\u001b[49m\u001b[43m=\u001b[49m\u001b[43mserver_hostname\u001b[49m\u001b[43m)\u001b[49m\n",
      "\u001b[36mFile \u001b[39m\u001b[32m~\\AppData\\Local\\Programs\\Python\\Python312\\Lib\\ssl.py:455\u001b[39m, in \u001b[36mSSLContext.wrap_socket\u001b[39m\u001b[34m(self, sock, server_side, do_handshake_on_connect, suppress_ragged_eofs, server_hostname, session)\u001b[39m\n\u001b[32m    449\u001b[39m \u001b[38;5;28;01mdef\u001b[39;00m\u001b[38;5;250m \u001b[39m\u001b[34mwrap_socket\u001b[39m(\u001b[38;5;28mself\u001b[39m, sock, server_side=\u001b[38;5;28;01mFalse\u001b[39;00m,\n\u001b[32m    450\u001b[39m                 do_handshake_on_connect=\u001b[38;5;28;01mTrue\u001b[39;00m,\n\u001b[32m    451\u001b[39m                 suppress_ragged_eofs=\u001b[38;5;28;01mTrue\u001b[39;00m,\n\u001b[32m    452\u001b[39m                 server_hostname=\u001b[38;5;28;01mNone\u001b[39;00m, session=\u001b[38;5;28;01mNone\u001b[39;00m):\n\u001b[32m    453\u001b[39m     \u001b[38;5;66;03m# SSLSocket class handles server_hostname encoding before it calls\u001b[39;00m\n\u001b[32m    454\u001b[39m     \u001b[38;5;66;03m# ctx._wrap_socket()\u001b[39;00m\n\u001b[32m--> \u001b[39m\u001b[32m455\u001b[39m     \u001b[38;5;28;01mreturn\u001b[39;00m \u001b[38;5;28;43mself\u001b[39;49m\u001b[43m.\u001b[49m\u001b[43msslsocket_class\u001b[49m\u001b[43m.\u001b[49m\u001b[43m_create\u001b[49m\u001b[43m(\u001b[49m\n\u001b[32m    456\u001b[39m \u001b[43m        \u001b[49m\u001b[43msock\u001b[49m\u001b[43m=\u001b[49m\u001b[43msock\u001b[49m\u001b[43m,\u001b[49m\n\u001b[32m    457\u001b[39m \u001b[43m        \u001b[49m\u001b[43mserver_side\u001b[49m\u001b[43m=\u001b[49m\u001b[43mserver_side\u001b[49m\u001b[43m,\u001b[49m\n\u001b[32m    458\u001b[39m \u001b[43m        \u001b[49m\u001b[43mdo_handshake_on_connect\u001b[49m\u001b[43m=\u001b[49m\u001b[43mdo_handshake_on_connect\u001b[49m\u001b[43m,\u001b[49m\n\u001b[32m    459\u001b[39m \u001b[43m        \u001b[49m\u001b[43msuppress_ragged_eofs\u001b[49m\u001b[43m=\u001b[49m\u001b[43msuppress_ragged_eofs\u001b[49m\u001b[43m,\u001b[49m\n\u001b[32m    460\u001b[39m \u001b[43m        \u001b[49m\u001b[43mserver_hostname\u001b[49m\u001b[43m=\u001b[49m\u001b[43mserver_hostname\u001b[49m\u001b[43m,\u001b[49m\n\u001b[32m    461\u001b[39m \u001b[43m        \u001b[49m\u001b[43mcontext\u001b[49m\u001b[43m=\u001b[49m\u001b[38;5;28;43mself\u001b[39;49m\u001b[43m,\u001b[49m\n\u001b[32m    462\u001b[39m \u001b[43m        \u001b[49m\u001b[43msession\u001b[49m\u001b[43m=\u001b[49m\u001b[43msession\u001b[49m\n\u001b[32m    463\u001b[39m \u001b[43m    \u001b[49m\u001b[43m)\u001b[49m\n",
      "\u001b[36mFile \u001b[39m\u001b[32m~\\AppData\\Local\\Programs\\Python\\Python312\\Lib\\ssl.py:1041\u001b[39m, in \u001b[36mSSLSocket._create\u001b[39m\u001b[34m(cls, sock, server_side, do_handshake_on_connect, suppress_ragged_eofs, server_hostname, context, session)\u001b[39m\n\u001b[32m   1040\u001b[39m                 \u001b[38;5;28;01mraise\u001b[39;00m \u001b[38;5;167;01mValueError\u001b[39;00m(\u001b[33m\"\u001b[39m\u001b[33mdo_handshake_on_connect should not be specified for non-blocking sockets\u001b[39m\u001b[33m\"\u001b[39m)\n\u001b[32m-> \u001b[39m\u001b[32m1041\u001b[39m             \u001b[38;5;28;43mself\u001b[39;49m\u001b[43m.\u001b[49m\u001b[43mdo_handshake\u001b[49m\u001b[43m(\u001b[49m\u001b[43m)\u001b[49m\n\u001b[32m   1042\u001b[39m \u001b[38;5;28;01mexcept\u001b[39;00m:\n",
      "\u001b[36mFile \u001b[39m\u001b[32m~\\AppData\\Local\\Programs\\Python\\Python312\\Lib\\ssl.py:1319\u001b[39m, in \u001b[36mSSLSocket.do_handshake\u001b[39m\u001b[34m(self, block)\u001b[39m\n\u001b[32m   1318\u001b[39m         \u001b[38;5;28mself\u001b[39m.settimeout(\u001b[38;5;28;01mNone\u001b[39;00m)\n\u001b[32m-> \u001b[39m\u001b[32m1319\u001b[39m     \u001b[38;5;28;43mself\u001b[39;49m\u001b[43m.\u001b[49m\u001b[43m_sslobj\u001b[49m\u001b[43m.\u001b[49m\u001b[43mdo_handshake\u001b[49m\u001b[43m(\u001b[49m\u001b[43m)\u001b[49m\n\u001b[32m   1320\u001b[39m \u001b[38;5;28;01mfinally\u001b[39;00m:\n",
      "\u001b[31mTimeoutError\u001b[39m: [WinError 10060] A connection attempt failed because the connected party did not properly respond after a period of time, or established connection failed because connected host has failed to respond",
      "\nThe above exception was the direct cause of the following exception:\n",
      "\u001b[31mReadTimeoutError\u001b[39m                          Traceback (most recent call last)",
      "\u001b[36mFile \u001b[39m\u001b[32mc:\\Users\\ckaz3\\Desktop\\intersection-safety-infra-detection\\infra-detection\\Lib\\site-packages\\requests\\adapters.py:667\u001b[39m, in \u001b[36mHTTPAdapter.send\u001b[39m\u001b[34m(self, request, stream, timeout, verify, cert, proxies)\u001b[39m\n\u001b[32m    666\u001b[39m \u001b[38;5;28;01mtry\u001b[39;00m:\n\u001b[32m--> \u001b[39m\u001b[32m667\u001b[39m     resp = \u001b[43mconn\u001b[49m\u001b[43m.\u001b[49m\u001b[43murlopen\u001b[49m\u001b[43m(\u001b[49m\n\u001b[32m    668\u001b[39m \u001b[43m        \u001b[49m\u001b[43mmethod\u001b[49m\u001b[43m=\u001b[49m\u001b[43mrequest\u001b[49m\u001b[43m.\u001b[49m\u001b[43mmethod\u001b[49m\u001b[43m,\u001b[49m\n\u001b[32m    669\u001b[39m \u001b[43m        \u001b[49m\u001b[43murl\u001b[49m\u001b[43m=\u001b[49m\u001b[43murl\u001b[49m\u001b[43m,\u001b[49m\n\u001b[32m    670\u001b[39m \u001b[43m        \u001b[49m\u001b[43mbody\u001b[49m\u001b[43m=\u001b[49m\u001b[43mrequest\u001b[49m\u001b[43m.\u001b[49m\u001b[43mbody\u001b[49m\u001b[43m,\u001b[49m\n\u001b[32m    671\u001b[39m \u001b[43m        \u001b[49m\u001b[43mheaders\u001b[49m\u001b[43m=\u001b[49m\u001b[43mrequest\u001b[49m\u001b[43m.\u001b[49m\u001b[43mheaders\u001b[49m\u001b[43m,\u001b[49m\n\u001b[32m    672\u001b[39m \u001b[43m        \u001b[49m\u001b[43mredirect\u001b[49m\u001b[43m=\u001b[49m\u001b[38;5;28;43;01mFalse\u001b[39;49;00m\u001b[43m,\u001b[49m\n\u001b[32m    673\u001b[39m \u001b[43m        \u001b[49m\u001b[43massert_same_host\u001b[49m\u001b[43m=\u001b[49m\u001b[38;5;28;43;01mFalse\u001b[39;49;00m\u001b[43m,\u001b[49m\n\u001b[32m    674\u001b[39m \u001b[43m        \u001b[49m\u001b[43mpreload_content\u001b[49m\u001b[43m=\u001b[49m\u001b[38;5;28;43;01mFalse\u001b[39;49;00m\u001b[43m,\u001b[49m\n\u001b[32m    675\u001b[39m \u001b[43m        \u001b[49m\u001b[43mdecode_content\u001b[49m\u001b[43m=\u001b[49m\u001b[38;5;28;43;01mFalse\u001b[39;49;00m\u001b[43m,\u001b[49m\n\u001b[32m    676\u001b[39m \u001b[43m        \u001b[49m\u001b[43mretries\u001b[49m\u001b[43m=\u001b[49m\u001b[38;5;28;43mself\u001b[39;49m\u001b[43m.\u001b[49m\u001b[43mmax_retries\u001b[49m\u001b[43m,\u001b[49m\n\u001b[32m    677\u001b[39m \u001b[43m        \u001b[49m\u001b[43mtimeout\u001b[49m\u001b[43m=\u001b[49m\u001b[43mtimeout\u001b[49m\u001b[43m,\u001b[49m\n\u001b[32m    678\u001b[39m \u001b[43m        \u001b[49m\u001b[43mchunked\u001b[49m\u001b[43m=\u001b[49m\u001b[43mchunked\u001b[49m\u001b[43m,\u001b[49m\n\u001b[32m    679\u001b[39m \u001b[43m    \u001b[49m\u001b[43m)\u001b[49m\n\u001b[32m    681\u001b[39m \u001b[38;5;28;01mexcept\u001b[39;00m (ProtocolError, \u001b[38;5;167;01mOSError\u001b[39;00m) \u001b[38;5;28;01mas\u001b[39;00m err:\n",
      "\u001b[36mFile \u001b[39m\u001b[32mc:\\Users\\ckaz3\\Desktop\\intersection-safety-infra-detection\\infra-detection\\Lib\\site-packages\\urllib3\\connectionpool.py:841\u001b[39m, in \u001b[36mHTTPConnectionPool.urlopen\u001b[39m\u001b[34m(self, method, url, body, headers, retries, redirect, assert_same_host, timeout, pool_timeout, release_conn, chunked, body_pos, preload_content, decode_content, **response_kw)\u001b[39m\n\u001b[32m    839\u001b[39m     new_e = ProtocolError(\u001b[33m\"\u001b[39m\u001b[33mConnection aborted.\u001b[39m\u001b[33m\"\u001b[39m, new_e)\n\u001b[32m--> \u001b[39m\u001b[32m841\u001b[39m retries = \u001b[43mretries\u001b[49m\u001b[43m.\u001b[49m\u001b[43mincrement\u001b[49m\u001b[43m(\u001b[49m\n\u001b[32m    842\u001b[39m \u001b[43m    \u001b[49m\u001b[43mmethod\u001b[49m\u001b[43m,\u001b[49m\u001b[43m \u001b[49m\u001b[43murl\u001b[49m\u001b[43m,\u001b[49m\u001b[43m \u001b[49m\u001b[43merror\u001b[49m\u001b[43m=\u001b[49m\u001b[43mnew_e\u001b[49m\u001b[43m,\u001b[49m\u001b[43m \u001b[49m\u001b[43m_pool\u001b[49m\u001b[43m=\u001b[49m\u001b[38;5;28;43mself\u001b[39;49m\u001b[43m,\u001b[49m\u001b[43m \u001b[49m\u001b[43m_stacktrace\u001b[49m\u001b[43m=\u001b[49m\u001b[43msys\u001b[49m\u001b[43m.\u001b[49m\u001b[43mexc_info\u001b[49m\u001b[43m(\u001b[49m\u001b[43m)\u001b[49m\u001b[43m[\u001b[49m\u001b[32;43m2\u001b[39;49m\u001b[43m]\u001b[49m\n\u001b[32m    843\u001b[39m \u001b[43m\u001b[49m\u001b[43m)\u001b[49m\n\u001b[32m    844\u001b[39m retries.sleep()\n",
      "\u001b[36mFile \u001b[39m\u001b[32mc:\\Users\\ckaz3\\Desktop\\intersection-safety-infra-detection\\infra-detection\\Lib\\site-packages\\urllib3\\util\\retry.py:474\u001b[39m, in \u001b[36mRetry.increment\u001b[39m\u001b[34m(self, method, url, response, error, _pool, _stacktrace)\u001b[39m\n\u001b[32m    473\u001b[39m \u001b[38;5;28;01mif\u001b[39;00m read \u001b[38;5;129;01mis\u001b[39;00m \u001b[38;5;28;01mFalse\u001b[39;00m \u001b[38;5;129;01mor\u001b[39;00m method \u001b[38;5;129;01mis\u001b[39;00m \u001b[38;5;28;01mNone\u001b[39;00m \u001b[38;5;129;01mor\u001b[39;00m \u001b[38;5;129;01mnot\u001b[39;00m \u001b[38;5;28mself\u001b[39m._is_method_retryable(method):\n\u001b[32m--> \u001b[39m\u001b[32m474\u001b[39m     \u001b[38;5;28;01mraise\u001b[39;00m \u001b[43mreraise\u001b[49m\u001b[43m(\u001b[49m\u001b[38;5;28;43mtype\u001b[39;49m\u001b[43m(\u001b[49m\u001b[43merror\u001b[49m\u001b[43m)\u001b[49m\u001b[43m,\u001b[49m\u001b[43m \u001b[49m\u001b[43merror\u001b[49m\u001b[43m,\u001b[49m\u001b[43m \u001b[49m\u001b[43m_stacktrace\u001b[49m\u001b[43m)\u001b[49m\n\u001b[32m    475\u001b[39m \u001b[38;5;28;01melif\u001b[39;00m read \u001b[38;5;129;01mis\u001b[39;00m \u001b[38;5;129;01mnot\u001b[39;00m \u001b[38;5;28;01mNone\u001b[39;00m:\n",
      "\u001b[36mFile \u001b[39m\u001b[32mc:\\Users\\ckaz3\\Desktop\\intersection-safety-infra-detection\\infra-detection\\Lib\\site-packages\\urllib3\\util\\util.py:39\u001b[39m, in \u001b[36mreraise\u001b[39m\u001b[34m(tp, value, tb)\u001b[39m\n\u001b[32m     38\u001b[39m         \u001b[38;5;28;01mraise\u001b[39;00m value.with_traceback(tb)\n\u001b[32m---> \u001b[39m\u001b[32m39\u001b[39m     \u001b[38;5;28;01mraise\u001b[39;00m value\n\u001b[32m     40\u001b[39m \u001b[38;5;28;01mfinally\u001b[39;00m:\n",
      "\u001b[36mFile \u001b[39m\u001b[32mc:\\Users\\ckaz3\\Desktop\\intersection-safety-infra-detection\\infra-detection\\Lib\\site-packages\\urllib3\\connectionpool.py:787\u001b[39m, in \u001b[36mHTTPConnectionPool.urlopen\u001b[39m\u001b[34m(self, method, url, body, headers, retries, redirect, assert_same_host, timeout, pool_timeout, release_conn, chunked, body_pos, preload_content, decode_content, **response_kw)\u001b[39m\n\u001b[32m    786\u001b[39m \u001b[38;5;66;03m# Make the request on the HTTPConnection object\u001b[39;00m\n\u001b[32m--> \u001b[39m\u001b[32m787\u001b[39m response = \u001b[38;5;28;43mself\u001b[39;49m\u001b[43m.\u001b[49m\u001b[43m_make_request\u001b[49m\u001b[43m(\u001b[49m\n\u001b[32m    788\u001b[39m \u001b[43m    \u001b[49m\u001b[43mconn\u001b[49m\u001b[43m,\u001b[49m\n\u001b[32m    789\u001b[39m \u001b[43m    \u001b[49m\u001b[43mmethod\u001b[49m\u001b[43m,\u001b[49m\n\u001b[32m    790\u001b[39m \u001b[43m    \u001b[49m\u001b[43murl\u001b[49m\u001b[43m,\u001b[49m\n\u001b[32m    791\u001b[39m \u001b[43m    \u001b[49m\u001b[43mtimeout\u001b[49m\u001b[43m=\u001b[49m\u001b[43mtimeout_obj\u001b[49m\u001b[43m,\u001b[49m\n\u001b[32m    792\u001b[39m \u001b[43m    \u001b[49m\u001b[43mbody\u001b[49m\u001b[43m=\u001b[49m\u001b[43mbody\u001b[49m\u001b[43m,\u001b[49m\n\u001b[32m    793\u001b[39m \u001b[43m    \u001b[49m\u001b[43mheaders\u001b[49m\u001b[43m=\u001b[49m\u001b[43mheaders\u001b[49m\u001b[43m,\u001b[49m\n\u001b[32m    794\u001b[39m \u001b[43m    \u001b[49m\u001b[43mchunked\u001b[49m\u001b[43m=\u001b[49m\u001b[43mchunked\u001b[49m\u001b[43m,\u001b[49m\n\u001b[32m    795\u001b[39m \u001b[43m    \u001b[49m\u001b[43mretries\u001b[49m\u001b[43m=\u001b[49m\u001b[43mretries\u001b[49m\u001b[43m,\u001b[49m\n\u001b[32m    796\u001b[39m \u001b[43m    \u001b[49m\u001b[43mresponse_conn\u001b[49m\u001b[43m=\u001b[49m\u001b[43mresponse_conn\u001b[49m\u001b[43m,\u001b[49m\n\u001b[32m    797\u001b[39m \u001b[43m    \u001b[49m\u001b[43mpreload_content\u001b[49m\u001b[43m=\u001b[49m\u001b[43mpreload_content\u001b[49m\u001b[43m,\u001b[49m\n\u001b[32m    798\u001b[39m \u001b[43m    \u001b[49m\u001b[43mdecode_content\u001b[49m\u001b[43m=\u001b[49m\u001b[43mdecode_content\u001b[49m\u001b[43m,\u001b[49m\n\u001b[32m    799\u001b[39m \u001b[43m    \u001b[49m\u001b[43m*\u001b[49m\u001b[43m*\u001b[49m\u001b[43mresponse_kw\u001b[49m\u001b[43m,\u001b[49m\n\u001b[32m    800\u001b[39m \u001b[43m\u001b[49m\u001b[43m)\u001b[49m\n\u001b[32m    802\u001b[39m \u001b[38;5;66;03m# Everything went great!\u001b[39;00m\n",
      "\u001b[36mFile \u001b[39m\u001b[32mc:\\Users\\ckaz3\\Desktop\\intersection-safety-infra-detection\\infra-detection\\Lib\\site-packages\\urllib3\\connectionpool.py:488\u001b[39m, in \u001b[36mHTTPConnectionPool._make_request\u001b[39m\u001b[34m(self, conn, method, url, body, headers, retries, timeout, chunked, response_conn, preload_content, decode_content, enforce_content_length)\u001b[39m\n\u001b[32m    487\u001b[39m         new_e = _wrap_proxy_error(new_e, conn.proxy.scheme)\n\u001b[32m--> \u001b[39m\u001b[32m488\u001b[39m     \u001b[38;5;28;01mraise\u001b[39;00m new_e\n\u001b[32m    490\u001b[39m \u001b[38;5;66;03m# conn.request() calls http.client.*.request, not the method in\u001b[39;00m\n\u001b[32m    491\u001b[39m \u001b[38;5;66;03m# urllib3.request. It also calls makefile (recv) on the socket.\u001b[39;00m\n",
      "\u001b[36mFile \u001b[39m\u001b[32mc:\\Users\\ckaz3\\Desktop\\intersection-safety-infra-detection\\infra-detection\\Lib\\site-packages\\urllib3\\connectionpool.py:466\u001b[39m, in \u001b[36mHTTPConnectionPool._make_request\u001b[39m\u001b[34m(self, conn, method, url, body, headers, retries, timeout, chunked, response_conn, preload_content, decode_content, enforce_content_length)\u001b[39m\n\u001b[32m    465\u001b[39m \u001b[38;5;28;01mexcept\u001b[39;00m (SocketTimeout, BaseSSLError) \u001b[38;5;28;01mas\u001b[39;00m e:\n\u001b[32m--> \u001b[39m\u001b[32m466\u001b[39m     \u001b[38;5;28;43mself\u001b[39;49m\u001b[43m.\u001b[49m\u001b[43m_raise_timeout\u001b[49m\u001b[43m(\u001b[49m\u001b[43merr\u001b[49m\u001b[43m=\u001b[49m\u001b[43me\u001b[49m\u001b[43m,\u001b[49m\u001b[43m \u001b[49m\u001b[43murl\u001b[49m\u001b[43m=\u001b[49m\u001b[43murl\u001b[49m\u001b[43m,\u001b[49m\u001b[43m \u001b[49m\u001b[43mtimeout_value\u001b[49m\u001b[43m=\u001b[49m\u001b[43mconn\u001b[49m\u001b[43m.\u001b[49m\u001b[43mtimeout\u001b[49m\u001b[43m)\u001b[49m\n\u001b[32m    467\u001b[39m     \u001b[38;5;28;01mraise\u001b[39;00m\n",
      "\u001b[36mFile \u001b[39m\u001b[32mc:\\Users\\ckaz3\\Desktop\\intersection-safety-infra-detection\\infra-detection\\Lib\\site-packages\\urllib3\\connectionpool.py:367\u001b[39m, in \u001b[36mHTTPConnectionPool._raise_timeout\u001b[39m\u001b[34m(self, err, url, timeout_value)\u001b[39m\n\u001b[32m    366\u001b[39m \u001b[38;5;28;01mif\u001b[39;00m \u001b[38;5;28misinstance\u001b[39m(err, SocketTimeout):\n\u001b[32m--> \u001b[39m\u001b[32m367\u001b[39m     \u001b[38;5;28;01mraise\u001b[39;00m ReadTimeoutError(\n\u001b[32m    368\u001b[39m         \u001b[38;5;28mself\u001b[39m, url, \u001b[33mf\u001b[39m\u001b[33m\"\u001b[39m\u001b[33mRead timed out. (read timeout=\u001b[39m\u001b[38;5;132;01m{\u001b[39;00mtimeout_value\u001b[38;5;132;01m}\u001b[39;00m\u001b[33m)\u001b[39m\u001b[33m\"\u001b[39m\n\u001b[32m    369\u001b[39m     ) \u001b[38;5;28;01mfrom\u001b[39;00m\u001b[38;5;250m \u001b[39m\u001b[34;01merr\u001b[39;00m\n\u001b[32m    371\u001b[39m \u001b[38;5;66;03m# See the above comment about EAGAIN in Python 3.\u001b[39;00m\n",
      "\u001b[31mReadTimeoutError\u001b[39m: HTTPSConnectionPool(host='orthos.its.ny.gov', port=443): Read timed out. (read timeout=None)",
      "\nDuring handling of the above exception, another exception occurred:\n",
      "\u001b[31mReadTimeout\u001b[39m                               Traceback (most recent call last)",
      "\u001b[36mCell\u001b[39m\u001b[36m \u001b[39m\u001b[32mIn[76]\u001b[39m\u001b[32m, line 56\u001b[39m\n\u001b[32m     45\u001b[39m bbox = \u001b[33m\"\u001b[39m\u001b[33m,\u001b[39m\u001b[33m\"\u001b[39m.join(\u001b[38;5;28mstr\u001b[39m(i) \u001b[38;5;28;01mfor\u001b[39;00m i \u001b[38;5;129;01min\u001b[39;00m utils_geo.bbox_from_point(\n\u001b[32m     46\u001b[39m         point=(intersection[\u001b[33m\"\u001b[39m\u001b[33mInter_Latitude\u001b[39m\u001b[33m\"\u001b[39m], intersection[\u001b[33m\"\u001b[39m\u001b[33mInter_Longitude\u001b[39m\u001b[33m\"\u001b[39m]),\n\u001b[32m     47\u001b[39m         dist=\u001b[32m35\u001b[39m,\n\u001b[32m     48\u001b[39m     ))\n\u001b[32m     49\u001b[39m params = {\n\u001b[32m     50\u001b[39m     \u001b[33m\"\u001b[39m\u001b[33mbbox\u001b[39m\u001b[33m\"\u001b[39m: bbox,\n\u001b[32m     51\u001b[39m     \u001b[33m\"\u001b[39m\u001b[33msize\u001b[39m\u001b[33m\"\u001b[39m: \u001b[33m\"\u001b[39m\u001b[33m640,640\u001b[39m\u001b[33m\"\u001b[39m,\n\u001b[32m     52\u001b[39m     \u001b[33m\"\u001b[39m\u001b[33mf\u001b[39m\u001b[33m\"\u001b[39m: \u001b[33m\"\u001b[39m\u001b[33mimage\u001b[39m\u001b[33m\"\u001b[39m,\n\u001b[32m     53\u001b[39m     \u001b[33m\"\u001b[39m\u001b[33mbboxSR\u001b[39m\u001b[33m\"\u001b[39m: \u001b[38;5;28mstr\u001b[39m(\u001b[32m4326\u001b[39m)\n\u001b[32m     54\u001b[39m }\n\u001b[32m---> \u001b[39m\u001b[32m56\u001b[39m r = \u001b[43mrequests\u001b[49m\u001b[43m.\u001b[49m\u001b[43mget\u001b[49m\u001b[43m(\u001b[49m\u001b[43mapi_endpoint\u001b[49m\u001b[43m,\u001b[49m\u001b[43m \u001b[49m\u001b[43mparams\u001b[49m\u001b[43m,\u001b[49m\u001b[43m \u001b[49m\u001b[43mstream\u001b[49m\u001b[43m=\u001b[49m\u001b[38;5;28;43;01mTrue\u001b[39;49;00m\u001b[43m)\u001b[49m\n\u001b[32m     58\u001b[39m save_file_path = \u001b[33m\"\u001b[39m\u001b[33mC:/Users/ckaz3/Desktop/intersection-safety-infra-detection/data/raw/test_images/\u001b[39m\u001b[33m\"\u001b[39m\n\u001b[32m     60\u001b[39m \u001b[38;5;28;01mwith\u001b[39;00m \u001b[38;5;28mopen\u001b[39m(save_file_path \n\u001b[32m     61\u001b[39m           + \u001b[38;5;28mstr\u001b[39m(intersection[\u001b[33m\"\u001b[39m\u001b[33mIntersection_ID\u001b[39m\u001b[33m\"\u001b[39m]) \n\u001b[32m     62\u001b[39m           + \u001b[33m\"\u001b[39m\u001b[33m_\u001b[39m\u001b[33m\"\u001b[39m + \u001b[38;5;28mstr\u001b[39m(api_year) + \u001b[33m\"\u001b[39m\u001b[33m.png\u001b[39m\u001b[33m\"\u001b[39m, \u001b[33m\"\u001b[39m\u001b[33mwb\u001b[39m\u001b[33m\"\u001b[39m) \u001b[38;5;28;01mas\u001b[39;00m fd:\n",
      "\u001b[36mFile \u001b[39m\u001b[32mc:\\Users\\ckaz3\\Desktop\\intersection-safety-infra-detection\\infra-detection\\Lib\\site-packages\\requests\\api.py:73\u001b[39m, in \u001b[36mget\u001b[39m\u001b[34m(url, params, **kwargs)\u001b[39m\n\u001b[32m     62\u001b[39m \u001b[38;5;28;01mdef\u001b[39;00m\u001b[38;5;250m \u001b[39m\u001b[34mget\u001b[39m(url, params=\u001b[38;5;28;01mNone\u001b[39;00m, **kwargs):\n\u001b[32m     63\u001b[39m \u001b[38;5;250m    \u001b[39m\u001b[33mr\u001b[39m\u001b[33;03m\"\"\"Sends a GET request.\u001b[39;00m\n\u001b[32m     64\u001b[39m \n\u001b[32m     65\u001b[39m \u001b[33;03m    :param url: URL for the new :class:`Request` object.\u001b[39;00m\n\u001b[32m   (...)\u001b[39m\u001b[32m     70\u001b[39m \u001b[33;03m    :rtype: requests.Response\u001b[39;00m\n\u001b[32m     71\u001b[39m \u001b[33;03m    \"\"\"\u001b[39;00m\n\u001b[32m---> \u001b[39m\u001b[32m73\u001b[39m     \u001b[38;5;28;01mreturn\u001b[39;00m \u001b[43mrequest\u001b[49m\u001b[43m(\u001b[49m\u001b[33;43m\"\u001b[39;49m\u001b[33;43mget\u001b[39;49m\u001b[33;43m\"\u001b[39;49m\u001b[43m,\u001b[49m\u001b[43m \u001b[49m\u001b[43murl\u001b[49m\u001b[43m,\u001b[49m\u001b[43m \u001b[49m\u001b[43mparams\u001b[49m\u001b[43m=\u001b[49m\u001b[43mparams\u001b[49m\u001b[43m,\u001b[49m\u001b[43m \u001b[49m\u001b[43m*\u001b[49m\u001b[43m*\u001b[49m\u001b[43mkwargs\u001b[49m\u001b[43m)\u001b[49m\n",
      "\u001b[36mFile \u001b[39m\u001b[32mc:\\Users\\ckaz3\\Desktop\\intersection-safety-infra-detection\\infra-detection\\Lib\\site-packages\\requests\\api.py:59\u001b[39m, in \u001b[36mrequest\u001b[39m\u001b[34m(method, url, **kwargs)\u001b[39m\n\u001b[32m     55\u001b[39m \u001b[38;5;66;03m# By using the 'with' statement we are sure the session is closed, thus we\u001b[39;00m\n\u001b[32m     56\u001b[39m \u001b[38;5;66;03m# avoid leaving sockets open which can trigger a ResourceWarning in some\u001b[39;00m\n\u001b[32m     57\u001b[39m \u001b[38;5;66;03m# cases, and look like a memory leak in others.\u001b[39;00m\n\u001b[32m     58\u001b[39m \u001b[38;5;28;01mwith\u001b[39;00m sessions.Session() \u001b[38;5;28;01mas\u001b[39;00m session:\n\u001b[32m---> \u001b[39m\u001b[32m59\u001b[39m     \u001b[38;5;28;01mreturn\u001b[39;00m \u001b[43msession\u001b[49m\u001b[43m.\u001b[49m\u001b[43mrequest\u001b[49m\u001b[43m(\u001b[49m\u001b[43mmethod\u001b[49m\u001b[43m=\u001b[49m\u001b[43mmethod\u001b[49m\u001b[43m,\u001b[49m\u001b[43m \u001b[49m\u001b[43murl\u001b[49m\u001b[43m=\u001b[49m\u001b[43murl\u001b[49m\u001b[43m,\u001b[49m\u001b[43m \u001b[49m\u001b[43m*\u001b[49m\u001b[43m*\u001b[49m\u001b[43mkwargs\u001b[49m\u001b[43m)\u001b[49m\n",
      "\u001b[36mFile \u001b[39m\u001b[32mc:\\Users\\ckaz3\\Desktop\\intersection-safety-infra-detection\\infra-detection\\Lib\\site-packages\\requests\\sessions.py:589\u001b[39m, in \u001b[36mSession.request\u001b[39m\u001b[34m(self, method, url, params, data, headers, cookies, files, auth, timeout, allow_redirects, proxies, hooks, stream, verify, cert, json)\u001b[39m\n\u001b[32m    584\u001b[39m send_kwargs = {\n\u001b[32m    585\u001b[39m     \u001b[33m\"\u001b[39m\u001b[33mtimeout\u001b[39m\u001b[33m\"\u001b[39m: timeout,\n\u001b[32m    586\u001b[39m     \u001b[33m\"\u001b[39m\u001b[33mallow_redirects\u001b[39m\u001b[33m\"\u001b[39m: allow_redirects,\n\u001b[32m    587\u001b[39m }\n\u001b[32m    588\u001b[39m send_kwargs.update(settings)\n\u001b[32m--> \u001b[39m\u001b[32m589\u001b[39m resp = \u001b[38;5;28;43mself\u001b[39;49m\u001b[43m.\u001b[49m\u001b[43msend\u001b[49m\u001b[43m(\u001b[49m\u001b[43mprep\u001b[49m\u001b[43m,\u001b[49m\u001b[43m \u001b[49m\u001b[43m*\u001b[49m\u001b[43m*\u001b[49m\u001b[43msend_kwargs\u001b[49m\u001b[43m)\u001b[49m\n\u001b[32m    591\u001b[39m \u001b[38;5;28;01mreturn\u001b[39;00m resp\n",
      "\u001b[36mFile \u001b[39m\u001b[32mc:\\Users\\ckaz3\\Desktop\\intersection-safety-infra-detection\\infra-detection\\Lib\\site-packages\\requests\\sessions.py:703\u001b[39m, in \u001b[36mSession.send\u001b[39m\u001b[34m(self, request, **kwargs)\u001b[39m\n\u001b[32m    700\u001b[39m start = preferred_clock()\n\u001b[32m    702\u001b[39m \u001b[38;5;66;03m# Send the request\u001b[39;00m\n\u001b[32m--> \u001b[39m\u001b[32m703\u001b[39m r = \u001b[43madapter\u001b[49m\u001b[43m.\u001b[49m\u001b[43msend\u001b[49m\u001b[43m(\u001b[49m\u001b[43mrequest\u001b[49m\u001b[43m,\u001b[49m\u001b[43m \u001b[49m\u001b[43m*\u001b[49m\u001b[43m*\u001b[49m\u001b[43mkwargs\u001b[49m\u001b[43m)\u001b[49m\n\u001b[32m    705\u001b[39m \u001b[38;5;66;03m# Total elapsed time of the request (approximately)\u001b[39;00m\n\u001b[32m    706\u001b[39m elapsed = preferred_clock() - start\n",
      "\u001b[36mFile \u001b[39m\u001b[32mc:\\Users\\ckaz3\\Desktop\\intersection-safety-infra-detection\\infra-detection\\Lib\\site-packages\\requests\\adapters.py:713\u001b[39m, in \u001b[36mHTTPAdapter.send\u001b[39m\u001b[34m(self, request, stream, timeout, verify, cert, proxies)\u001b[39m\n\u001b[32m    711\u001b[39m     \u001b[38;5;28;01mraise\u001b[39;00m SSLError(e, request=request)\n\u001b[32m    712\u001b[39m \u001b[38;5;28;01melif\u001b[39;00m \u001b[38;5;28misinstance\u001b[39m(e, ReadTimeoutError):\n\u001b[32m--> \u001b[39m\u001b[32m713\u001b[39m     \u001b[38;5;28;01mraise\u001b[39;00m ReadTimeout(e, request=request)\n\u001b[32m    714\u001b[39m \u001b[38;5;28;01melif\u001b[39;00m \u001b[38;5;28misinstance\u001b[39m(e, _InvalidHeader):\n\u001b[32m    715\u001b[39m     \u001b[38;5;28;01mraise\u001b[39;00m InvalidHeader(e, request=request)\n",
      "\u001b[31mReadTimeout\u001b[39m: HTTPSConnectionPool(host='orthos.its.ny.gov', port=443): Read timed out. (read timeout=None)"
     ]
    }
   ],
   "source": [
    "import requests\n",
    "from pyproj import Transformer\n",
    "from tqdm import tqdm\n",
    "\n",
    "data_path = \"C:/Users/ckaz3/Desktop/intersection-safety-infra-detection/data/interim/existing_stations_intersections.csv\"\n",
    "data = pd.read_csv(data_path, index_col=0)\n",
    "data = data[data[\"Agency\"] == \"MTA\"]\n",
    "\n",
    "# for data_source in data_sources:\n",
    "api_endpoint = \"https://orthos.its.ny.gov/arcgis/rest/services/wms/2022/MapServer\"\n",
    "api_year = 2022\n",
    "\n",
    "params = {\"f\": \"json\"}\n",
    "\n",
    "r = requests.get(api_endpoint, params).json()\n",
    "\n",
    "transformer = Transformer.from_crs(\"EPSG:3857\", \"EPSG:4326\")\n",
    "server_bbox = list(\n",
    "    transformer.transform(r[\"fullExtent\"][\"xmin\"], r[\"fullExtent\"][\"ymin\"])\n",
    ")\n",
    "\n",
    "server_bbox.extend(\n",
    "    transformer.transform(r[\"fullExtent\"][\"xmax\"], r[\"fullExtent\"][\"ymax\"])\n",
    ")\n",
    "\n",
    "server_bbox_str = \",\".join(str(i) for i in server_bbox)\n",
    "\n",
    "for _, intersection in tqdm(data.iterrows(), total=len(data)):\n",
    "    api_endpoint = \"https://orthos.its.ny.gov/arcgis/rest/services/wms/2022/MapServer/export\"\n",
    "\n",
    "    # see if intersection is in bounding box\n",
    "    if (\n",
    "        (intersection[\"Inter_Latitude\"] < server_bbox[0])\n",
    "        or (intersection[\"Inter_Latitude\"] > server_bbox[2])\n",
    "        or (intersection[\"Inter_Longitude\"] < server_bbox[1])\n",
    "        or (intersection[\"Inter_Longitude\"] > server_bbox[3])\n",
    "    ):\n",
    "        continue\n",
    "\n",
    "    # TODO: if image has already been found\n",
    "\n",
    "    # query image and save image as intersection_id__year\n",
    "    bbox = \",\".join(str(i) for i in utils_geo.bbox_from_point(\n",
    "            point=(intersection[\"Inter_Latitude\"], intersection[\"Inter_Longitude\"]),\n",
    "            dist=35,\n",
    "        ))\n",
    "    params = {\n",
    "        \"bbox\": bbox,\n",
    "        \"size\": \"640,640\",\n",
    "        \"f\": \"image\",\n",
    "        \"bboxSR\": str(4326)\n",
    "    }\n",
    "\n",
    "    r = requests.get(api_endpoint, params, stream=True)\n",
    "\n",
    "    save_file_path = \"C:/Users/ckaz3/Desktop/intersection-safety-infra-detection/data/raw/test_images/\"\n",
    "\n",
    "    with open(save_file_path \n",
    "              + str(intersection[\"Intersection_ID\"]) \n",
    "              + \"_\" + str(api_year) + \".png\", \"wb\") as fd:\n",
    "        for chunk in r.iter_content(chunk_size=128):\n",
    "            fd.write(chunk)\n",
    "\n",
    "    # update table as true\n",
    "    data.loc[data[\"Intersection_ID\"] == intersection[\"Intersection_ID\"], str(api_year)] = True"
   ]
  },
  {
   "cell_type": "code",
   "execution_count": 208,
   "id": "a0d6b9a0",
   "metadata": {},
   "outputs": [
    {
     "name": "stdout",
     "output_type": "stream",
     "text": [
      "(np.float64(-73.98897944164224), np.float64(40.75870983983226), np.float64(-73.98779215835776), np.float64(40.75960916016775))\n"
     ]
    }
   ],
   "source": [
    "data_path = \"C:/Users/ckaz3/Desktop/intersection-safety-infra-detection/data/interim/existing_stations_intersections.csv\"\n",
    "data = pd.read_csv(data_path, index_col=0)\n",
    "\n",
    "for i, row in data[data[\"Station Name\"].str.startswith(\"42 St - P\")].iterrows():\n",
    "    print(\n",
    "        str(\n",
    "            utils_geo.bbox_from_point(\n",
    "                point=(row[\"Inter_Latitude\"], row[\"Inter_Longitude\"]), dist=50\n",
    "            )\n",
    "        )\n",
    "    )\n",
    "    break"
   ]
  }
 ],
 "metadata": {
  "kernelspec": {
   "display_name": "infra-detection (3.12.10)",
   "language": "python",
   "name": "python3"
  },
  "language_info": {
   "codemirror_mode": {
    "name": "ipython",
    "version": 3
   },
   "file_extension": ".py",
   "mimetype": "text/x-python",
   "name": "python",
   "nbconvert_exporter": "python",
   "pygments_lexer": "ipython3",
   "version": "3.12.10"
  }
 },
 "nbformat": 4,
 "nbformat_minor": 5
}
